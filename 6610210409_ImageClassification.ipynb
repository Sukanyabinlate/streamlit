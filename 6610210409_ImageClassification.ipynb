{
 "cells": [
  {
   "cell_type": "code",
   "execution_count": 21,
   "id": "dc9cdd1d-55cd-4d38-b94c-44ab54ebfbda",
   "metadata": {},
   "outputs": [],
   "source": [
    "import os\n",
    "import cv2\n",
    "import numpy as np\n",
    "\n",
    "base_dir = \"D:/6610210409/dataset/dataset\"\n",
    "\n",
    "def load_image_from_folder(folder):\n",
    "    image = []\n",
    "    for filename in os.listdir(folder):\n",
    "        img_path = os.path.join(folder, filename)\n",
    "        img = cv2.imread(img_path)\n",
    "        if img is not None:\n",
    "            image.append(img)\n",
    "    return images"
   ]
  },
  {
   "cell_type": "code",
   "execution_count": 22,
   "id": "0961dce9-5704-4f9d-85b2-a50cb6283459",
   "metadata": {},
   "outputs": [
    {
     "name": "stdout",
     "output_type": "stream",
     "text": [
      "Loaded 50 apple images\n",
      "Loaded 49 orange images\n"
     ]
    }
   ],
   "source": [
    "base_dir = \"D:/6610210409/dataset/dataset\"\n",
    "apple_images = load_images_from_folder(os.path.join(base_dir, \"apple\"))\n",
    "orange_images = load_images_from_folder(os.path.join(base_dir, \"orange\"))\n",
    "\n",
    "print(f\"Loaded {len(apple_images)} apple images\")\n",
    "print(f\"Loaded {len(orange_images)} orange images\")"
   ]
  },
  {
   "cell_type": "code",
   "execution_count": 23,
   "id": "d1b110be-5493-438b-8bbe-545b5583d880",
   "metadata": {},
   "outputs": [],
   "source": [
    "# you might want to resize or preprocess these image later\n",
    "# Example : resize to a common size (e.g., 100x100)\n",
    "resizeed_apple_images = [cv2.resize(img, (100, 100)) for img in apple_images]\n",
    "resizeed_orange_images = [cv2.resize(img, (100, 100)) for img in orange_images]"
   ]
  },
  {
   "cell_type": "code",
   "execution_count": 25,
   "id": "d55bf751-c620-4a0b-b23d-b9e09239241e",
   "metadata": {},
   "outputs": [
    {
     "name": "stdout",
     "output_type": "stream",
     "text": [
      "Flatten apple feature shape (first image): (30000,)\n",
      "Flatten orange feature shape (first image): (30000,)\n"
     ]
    }
   ],
   "source": [
    "#flatten the resized images into feature vactors\n",
    "apple_features = [img.flatten() for img in resizeed_apple_images]\n",
    "orange_features = [img.flatten() for img in resizeed_orange_images]\n",
    "\n",
    "print(f\"Flatten apple feature shape (first image): {apple_features[0].shape}\")\n",
    "print(f\"Flatten orange feature shape (first image): {orange_features[0].shape}\")"
   ]
  },
  {
   "cell_type": "code",
   "execution_count": 30,
   "id": "b9658f42-c824-4414-a762-c572badf7ef2",
   "metadata": {},
   "outputs": [
    {
     "name": "stdout",
     "output_type": "stream",
     "text": [
      "Training features shape: (79, 30000)\n",
      "Testing features shape: (20, 30000)\n",
      "Training labels shape: (79,)\n",
      "Testing labels shape: (20,)\n"
     ]
    }
   ],
   "source": [
    "from sklearn.model_selection import train_test_split\n",
    "\n",
    "# Create lables : 0 for apple, 1 foe apple\n",
    "apple_labels = [0] * len(apple_features)\n",
    "orange_labels = [1] * len(orange_features)\n",
    "\n",
    "# combine feature and labels\n",
    "all_features = apple_features + orange_features\n",
    "all_labels = apple_labels + orange_labels\n",
    "\n",
    "# Convert to nampy arrays\n",
    "X = np.array(all_features)\n",
    "y = np.array(all_labels)\n",
    "\n",
    "# Shlit data into traning and testing sets\n",
    "X_train, X_test, y_train, y_test = train_test_split(X, y, test_size=0.2, random_state=42)\n",
    "\n",
    "print(f\"Training features shape: {X_train.shape}\")\n",
    "print(f\"Testing features shape: {X_test.shape}\")\n",
    "print(f\"Training labels shape: {y_train.shape}\")\n",
    "print(f\"Testing labels shape: {y_test.shape}\")"
   ]
  },
  {
   "cell_type": "code",
   "execution_count": 31,
   "id": "0b9ff8e3-71b3-4134-af9e-82cd7b43d52e",
   "metadata": {},
   "outputs": [
    {
     "name": "stdout",
     "output_type": "stream",
     "text": [
      "Accuracy: 0.90\n",
      "\n",
      "Classification Report:\n",
      "              precision    recall  f1-score   support\n",
      "\n",
      "           0       0.92      0.92      0.92        12\n",
      "           1       0.88      0.88      0.88         8\n",
      "\n",
      "    accuracy                           0.90        20\n",
      "   macro avg       0.90      0.90      0.90        20\n",
      "weighted avg       0.90      0.90      0.90        20\n",
      "\n"
     ]
    }
   ],
   "source": [
    "from sklearn import svm\n",
    "from sklearn.metrics import accuracy_score, classification_report\n",
    "\n",
    "# Initialize and train the SVM classifier\n",
    "svm_model = svm.SVC(kernel='linear')\n",
    "svm_model.fit(X_train, y_train)\n",
    "\n",
    "# Preict on the test set\n",
    "y_pred = svm_model.predict(X_test)\n",
    "\n",
    "# Evaluate the model\n",
    "accuracy = accuracy_score(y_test, y_pred)\n",
    "print(f\"Accuracy: {accuracy:.2f}\")\n",
    "\n",
    "print(\"\\nClassification Report:\")\n",
    "print(classification_report(y_test, y_pred))\n"
   ]
  },
  {
   "cell_type": "code",
   "execution_count": 32,
   "id": "04a48f79-2f30-4dcd-b188-62df66857e83",
   "metadata": {},
   "outputs": [
    {
     "name": "stdout",
     "output_type": "stream",
     "text": [
      "Model saved to svm_image_classifier_model.pkl\n"
     ]
    }
   ],
   "source": [
    "import joblib\n",
    "\n",
    "# Save the trained model to a fole\n",
    "filename = 'svm_image_classifier_model.pkl'\n",
    "joblib.dump(svm_model, filename)\n",
    "\n",
    "print(f\"Model saved to {filename}\")\n"
   ]
  },
  {
   "cell_type": "code",
   "execution_count": 41,
   "id": "ad2418a3-33c5-404f-8ef2-3c5b8f97db5d",
   "metadata": {},
   "outputs": [
    {
     "name": "stdout",
     "output_type": "stream",
     "text": [
      "Overwriting app.py\n"
     ]
    }
   ],
   "source": [
    "%%writefile app.py\n",
    "\n",
    "import streamlit as st\n",
    "import joblib\n",
    "import pickle\n",
    "from PIL import Image\n",
    "import numpy as np\n",
    "\n",
    "\n",
    "# --- ---\n",
    "with open(\"svm_image_classifier_model.pkl\", \"rb\") as f:\n",
    "model = joblib.load(f)\n",
    "\n",
    "# --- UI ---\n",
    "st.title(\"Fruit Classifier\")\n",
    "st.write(\" \")\n",
    "\n",
    "uploaded_file = st.file_uploader(\"Choose an image...\", type=[\"jpg\", \"png\", \"jpeg\"])\n",
    "class_dict = {0: \"Orange\", 1: \"Apple\"}\n",
    "if uploaded_file is not None:\n",
    "#\n",
    "image = Image.open(uploaded_file)\n",
    "st.image(image, caption='Uploaded Image', use_container_width=True)\n",
    "\n",
    "# --- ---\n",
    "#\n",
    "image = image.resize((100, 100))\n",
    "image_array = np.array(image)\n",
    "#\n",
    "image_array = image_array.flatten().reshape(1, -1)\n",
    "# --- ---\n",
    "prediction = model.predict(image_array)[0]\n",
    "# Get prediction name\n",
    "prediction_name = class_dict[prediction]\n",
    "st.write(f\"Prediction: **{prediction_name}**\")\n",
    "\n"
   ]
  },
  {
   "cell_type": "code",
   "execution_count": null,
   "id": "df207835-2c54-465a-9a8c-3de110830e42",
   "metadata": {},
   "outputs": [],
   "source": []
  }
 ],
 "metadata": {
  "kernelspec": {
   "display_name": "Python (362-env)",
   "language": "python",
   "name": "362-env"
  },
  "language_info": {
   "codemirror_mode": {
    "name": "ipython",
    "version": 3
   },
   "file_extension": ".py",
   "mimetype": "text/x-python",
   "name": "python",
   "nbconvert_exporter": "python",
   "pygments_lexer": "ipython3",
   "version": "3.13.7"
  }
 },
 "nbformat": 4,
 "nbformat_minor": 5
}
